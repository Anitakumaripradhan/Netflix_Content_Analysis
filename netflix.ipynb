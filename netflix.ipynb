{
 "cells": [
  {
   "cell_type": "code",
   "execution_count": 39,
   "id": "de564750",
   "metadata": {},
   "outputs": [
    {
     "name": "stdout",
     "output_type": "stream",
     "text": [
      "this code interface is working\n"
     ]
    }
   ],
   "source": [
    "print(\"this code interface is working\")"
   ]
  },
  {
   "cell_type": "code",
   "execution_count": 40,
   "id": "ae35794c",
   "metadata": {},
   "outputs": [],
   "source": [
    "import pandas as pd\n",
    "import matplotlib.pyplot as plt"
   ]
  },
  {
   "cell_type": "code",
   "execution_count": 41,
   "id": "e01a5e3e",
   "metadata": {},
   "outputs": [],
   "source": [
    "s = pd.read_csv('netflix_titles.csv')"
   ]
  },
  {
   "cell_type": "code",
   "execution_count": 42,
   "id": "3bad8d98",
   "metadata": {},
   "outputs": [
    {
     "name": "stdout",
     "output_type": "stream",
     "text": [
      "     show_id     type                  title         director  \\\n",
      "0         s1    Movie   Dick Johnson Is Dead  Kirsten Johnson   \n",
      "1         s2  TV Show          Blood & Water              NaN   \n",
      "2         s3  TV Show              Ganglands  Julien Leclercq   \n",
      "3         s4  TV Show  Jailbirds New Orleans              NaN   \n",
      "4         s5  TV Show           Kota Factory              NaN   \n",
      "...      ...      ...                    ...              ...   \n",
      "8802   s8803    Movie                 Zodiac    David Fincher   \n",
      "8803   s8804  TV Show            Zombie Dumb              NaN   \n",
      "8804   s8805    Movie             Zombieland  Ruben Fleischer   \n",
      "8805   s8806    Movie                   Zoom     Peter Hewitt   \n",
      "8806   s8807    Movie                 Zubaan      Mozez Singh   \n",
      "\n",
      "                                                   cast        country  \\\n",
      "0                                                   NaN  United States   \n",
      "1     Ama Qamata, Khosi Ngema, Gail Mabalane, Thaban...   South Africa   \n",
      "2     Sami Bouajila, Tracy Gotoas, Samuel Jouy, Nabi...            NaN   \n",
      "3                                                   NaN            NaN   \n",
      "4     Mayur More, Jitendra Kumar, Ranjan Raj, Alam K...          India   \n",
      "...                                                 ...            ...   \n",
      "8802  Mark Ruffalo, Jake Gyllenhaal, Robert Downey J...  United States   \n",
      "8803                                                NaN            NaN   \n",
      "8804  Jesse Eisenberg, Woody Harrelson, Emma Stone, ...  United States   \n",
      "8805  Tim Allen, Courteney Cox, Chevy Chase, Kate Ma...  United States   \n",
      "8806  Vicky Kaushal, Sarah-Jane Dias, Raaghav Chanan...          India   \n",
      "\n",
      "              date_added  release_year rating   duration  \\\n",
      "0     September 25, 2021          2020  PG-13     90 min   \n",
      "1     September 24, 2021          2021  TV-MA  2 Seasons   \n",
      "2     September 24, 2021          2021  TV-MA   1 Season   \n",
      "3     September 24, 2021          2021  TV-MA   1 Season   \n",
      "4     September 24, 2021          2021  TV-MA  2 Seasons   \n",
      "...                  ...           ...    ...        ...   \n",
      "8802   November 20, 2019          2007      R    158 min   \n",
      "8803        July 1, 2019          2018  TV-Y7  2 Seasons   \n",
      "8804    November 1, 2019          2009      R     88 min   \n",
      "8805    January 11, 2020          2006     PG     88 min   \n",
      "8806       March 2, 2019          2015  TV-14    111 min   \n",
      "\n",
      "                                              listed_in  \\\n",
      "0                                         Documentaries   \n",
      "1       International TV Shows, TV Dramas, TV Mysteries   \n",
      "2     Crime TV Shows, International TV Shows, TV Act...   \n",
      "3                                Docuseries, Reality TV   \n",
      "4     International TV Shows, Romantic TV Shows, TV ...   \n",
      "...                                                 ...   \n",
      "8802                     Cult Movies, Dramas, Thrillers   \n",
      "8803             Kids' TV, Korean TV Shows, TV Comedies   \n",
      "8804                            Comedies, Horror Movies   \n",
      "8805                 Children & Family Movies, Comedies   \n",
      "8806     Dramas, International Movies, Music & Musicals   \n",
      "\n",
      "                                            description  \n",
      "0     As her father nears the end of his life, filmm...  \n",
      "1     After crossing paths at a party, a Cape Town t...  \n",
      "2     To protect his family from a powerful drug lor...  \n",
      "3     Feuds, flirtations and toilet talk go down amo...  \n",
      "4     In a city of coaching centers known to train I...  \n",
      "...                                                 ...  \n",
      "8802  A political cartoonist, a crime reporter and a...  \n",
      "8803  While living alone in a spooky town, a young g...  \n",
      "8804  Looking to survive in a world taken over by zo...  \n",
      "8805  Dragged from civilian life, a former superhero...  \n",
      "8806  A scrappy but poor boy worms his way into a ty...  \n",
      "\n",
      "[8807 rows x 12 columns]\n"
     ]
    }
   ],
   "source": [
    "print(s)"
   ]
  },
  {
   "cell_type": "code",
   "execution_count": 43,
   "id": "048af740",
   "metadata": {},
   "outputs": [
    {
     "name": "stdout",
     "output_type": "stream",
     "text": [
      "  show_id     type                  title         director  \\\n",
      "0      s1    Movie   Dick Johnson Is Dead  Kirsten Johnson   \n",
      "1      s2  TV Show          Blood & Water              NaN   \n",
      "2      s3  TV Show              Ganglands  Julien Leclercq   \n",
      "3      s4  TV Show  Jailbirds New Orleans              NaN   \n",
      "4      s5  TV Show           Kota Factory              NaN   \n",
      "\n",
      "                                                cast        country  \\\n",
      "0                                                NaN  United States   \n",
      "1  Ama Qamata, Khosi Ngema, Gail Mabalane, Thaban...   South Africa   \n",
      "2  Sami Bouajila, Tracy Gotoas, Samuel Jouy, Nabi...            NaN   \n",
      "3                                                NaN            NaN   \n",
      "4  Mayur More, Jitendra Kumar, Ranjan Raj, Alam K...          India   \n",
      "\n",
      "           date_added  release_year rating   duration  \\\n",
      "0  September 25, 2021          2020  PG-13     90 min   \n",
      "1  September 24, 2021          2021  TV-MA  2 Seasons   \n",
      "2  September 24, 2021          2021  TV-MA   1 Season   \n",
      "3  September 24, 2021          2021  TV-MA   1 Season   \n",
      "4  September 24, 2021          2021  TV-MA  2 Seasons   \n",
      "\n",
      "                                           listed_in  \\\n",
      "0                                      Documentaries   \n",
      "1    International TV Shows, TV Dramas, TV Mysteries   \n",
      "2  Crime TV Shows, International TV Shows, TV Act...   \n",
      "3                             Docuseries, Reality TV   \n",
      "4  International TV Shows, Romantic TV Shows, TV ...   \n",
      "\n",
      "                                         description  \n",
      "0  As her father nears the end of his life, filmm...  \n",
      "1  After crossing paths at a party, a Cape Town t...  \n",
      "2  To protect his family from a powerful drug lor...  \n",
      "3  Feuds, flirtations and toilet talk go down amo...  \n",
      "4  In a city of coaching centers known to train I...  \n"
     ]
    }
   ],
   "source": [
    "print(s.head())"
   ]
  },
  {
   "cell_type": "code",
   "execution_count": 44,
   "id": "7d4b0fe5",
   "metadata": {},
   "outputs": [
    {
     "name": "stdout",
     "output_type": "stream",
     "text": [
      "(8807, 12)\n"
     ]
    }
   ],
   "source": [
    "print(s.shape)"
   ]
  },
  {
   "cell_type": "code",
   "execution_count": 45,
   "id": "4237176e",
   "metadata": {},
   "outputs": [
    {
     "data": {
      "text/plain": [
       "show_id            0\n",
       "type               0\n",
       "title              0\n",
       "director        2634\n",
       "cast             825\n",
       "country          831\n",
       "date_added        10\n",
       "release_year       0\n",
       "rating             4\n",
       "duration           3\n",
       "listed_in          0\n",
       "description        0\n",
       "dtype: int64"
      ]
     },
     "execution_count": 45,
     "metadata": {},
     "output_type": "execute_result"
    }
   ],
   "source": [
    "s.isnull().sum()"
   ]
  },
  {
   "cell_type": "code",
   "execution_count": 46,
   "id": "b81c71c0",
   "metadata": {},
   "outputs": [
    {
     "data": {
      "text/plain": [
       "show_id         0\n",
       "type            0\n",
       "title           0\n",
       "director        0\n",
       "cast            0\n",
       "country         0\n",
       "date_added      0\n",
       "release_year    0\n",
       "rating          0\n",
       "duration        0\n",
       "listed_in       0\n",
       "description     0\n",
       "dtype: int64"
      ]
     },
     "execution_count": 46,
     "metadata": {},
     "output_type": "execute_result"
    }
   ],
   "source": [
    "s.dropna(inplace=True)\n",
    "s.isnull().sum()\n"
   ]
  },
  {
   "cell_type": "code",
   "execution_count": 47,
   "id": "e8d0126f",
   "metadata": {},
   "outputs": [
    {
     "data": {
      "text/plain": [
       "show_id            0\n",
       "type               0\n",
       "title              0\n",
       "director        2634\n",
       "cast             825\n",
       "country          831\n",
       "date_added        10\n",
       "release_year       0\n",
       "rating             4\n",
       "duration           3\n",
       "listed_in          0\n",
       "description        0\n",
       "dtype: int64"
      ]
     },
     "execution_count": 47,
     "metadata": {},
     "output_type": "execute_result"
    }
   ],
   "source": [
    "s = pd.read_csv('netflix_titles.csv')\n",
    "s.isnull().sum()"
   ]
  },
  {
   "cell_type": "code",
   "execution_count": 48,
   "id": "97b485ab",
   "metadata": {},
   "outputs": [
    {
     "data": {
      "text/plain": [
       "show_id           0\n",
       "type              0\n",
       "title             0\n",
       "director          0\n",
       "cast            473\n",
       "country         422\n",
       "date_added        0\n",
       "release_year      0\n",
       "rating            0\n",
       "duration          3\n",
       "listed_in         0\n",
       "description       0\n",
       "dtype: int64"
      ]
     },
     "execution_count": 48,
     "metadata": {},
     "output_type": "execute_result"
    }
   ],
   "source": [
    "a = s.dropna(subset=['date_added','director','rating'])\n",
    "a.isnull().sum()"
   ]
  },
  {
   "cell_type": "code",
   "execution_count": 49,
   "id": "036815ba",
   "metadata": {},
   "outputs": [
    {
     "name": "stdout",
     "output_type": "stream",
     "text": [
      "(6172, 12)\n"
     ]
    }
   ],
   "source": [
    "print(a.shape)"
   ]
  },
  {
   "cell_type": "code",
   "execution_count": 50,
   "id": "4fe35083",
   "metadata": {},
   "outputs": [
    {
     "name": "stdout",
     "output_type": "stream",
     "text": [
      "type\n",
      "Movie      5942\n",
      "TV Show     230\n",
      "Name: count, dtype: int64\n"
     ]
    }
   ],
   "source": [
    "typecount = a['type'].value_counts()\n",
    "print(typecount)"
   ]
  },
  {
   "cell_type": "code",
   "execution_count": 51,
   "id": "02e89ce0",
   "metadata": {},
   "outputs": [
    {
     "data": {
      "text/plain": [
       "np.int64(1645)"
      ]
     },
     "execution_count": 51,
     "metadata": {},
     "output_type": "execute_result"
    }
   ],
   "source": [
    "a.duplicated(subset=['director']).sum()"
   ]
  },
  {
   "cell_type": "code",
   "execution_count": 52,
   "id": "c8e8f3ea",
   "metadata": {},
   "outputs": [
    {
     "name": "stdout",
     "output_type": "stream",
     "text": [
      "     show_id     type                  title         director  \\\n",
      "0         s1    Movie   Dick Johnson Is Dead  Kirsten Johnson   \n",
      "1         s2  TV Show          Blood & Water              NaN   \n",
      "2         s3  TV Show              Ganglands  Julien Leclercq   \n",
      "3         s4  TV Show  Jailbirds New Orleans              NaN   \n",
      "4         s5  TV Show           Kota Factory              NaN   \n",
      "...      ...      ...                    ...              ...   \n",
      "8804   s8805    Movie             Zombieland  Ruben Fleischer   \n",
      "8805   s8806    Movie                   Zoom     Peter Hewitt   \n",
      "8806   s8807    Movie                 Zubaan      Mozez Singh   \n",
      "8807   s8806    Movie                   Zoom     Peter Hewitt   \n",
      "8808   s8807    Movie                 Zubaan      Mozez Singh   \n",
      "\n",
      "                                                   cast        country  \\\n",
      "0                                                   NaN  United States   \n",
      "1     Ama Qamata, Khosi Ngema, Gail Mabalane, Thaban...   South Africa   \n",
      "2     Sami Bouajila, Tracy Gotoas, Samuel Jouy, Nabi...            NaN   \n",
      "3                                                   NaN            NaN   \n",
      "4     Mayur More, Jitendra Kumar, Ranjan Raj, Alam K...          India   \n",
      "...                                                 ...            ...   \n",
      "8804  Jesse Eisenberg, Woody Harrelson, Emma Stone, ...  United States   \n",
      "8805  Tim Allen, Courteney Cox, Chevy Chase, Kate Ma...  United States   \n",
      "8806  Vicky Kaushal, Sarah-Jane Dias, Raaghav Chanan...          India   \n",
      "8807  Tim Allen, Courteney Cox, Chevy Chase, Kate Ma...  United States   \n",
      "8808  Vicky Kaushal, Sarah-Jane Dias, Raaghav Chanan...          India   \n",
      "\n",
      "              date_added  release_year rating   duration  \\\n",
      "0     September 25, 2021          2020  PG-13     90 min   \n",
      "1     September 24, 2021          2021  TV-MA  2 Seasons   \n",
      "2     September 24, 2021          2021  TV-MA   1 Season   \n",
      "3     September 24, 2021          2021  TV-MA   1 Season   \n",
      "4     September 24, 2021          2021  TV-MA  2 Seasons   \n",
      "...                  ...           ...    ...        ...   \n",
      "8804    November 1, 2019          2009      R     88 min   \n",
      "8805    January 11, 2020          2006     PG     88 min   \n",
      "8806       March 2, 2019          2015  TV-14    111 min   \n",
      "8807    January 11, 2020          2006     PG     88 min   \n",
      "8808       March 2, 2019          2015  TV-14    111 min   \n",
      "\n",
      "                                              listed_in  \\\n",
      "0                                         Documentaries   \n",
      "1       International TV Shows, TV Dramas, TV Mysteries   \n",
      "2     Crime TV Shows, International TV Shows, TV Act...   \n",
      "3                                Docuseries, Reality TV   \n",
      "4     International TV Shows, Romantic TV Shows, TV ...   \n",
      "...                                                 ...   \n",
      "8804                            Comedies, Horror Movies   \n",
      "8805                 Children & Family Movies, Comedies   \n",
      "8806     Dramas, International Movies, Music & Musicals   \n",
      "8807                 Children & Family Movies, Comedies   \n",
      "8808     Dramas, International Movies, Music & Musicals   \n",
      "\n",
      "                                            description  \n",
      "0     As her father nears the end of his life, filmm...  \n",
      "1     After crossing paths at a party, a Cape Town t...  \n",
      "2     To protect his family from a powerful drug lor...  \n",
      "3     Feuds, flirtations and toilet talk go down amo...  \n",
      "4     In a city of coaching centers known to train I...  \n",
      "...                                                 ...  \n",
      "8804  Looking to survive in a world taken over by zo...  \n",
      "8805  Dragged from civilian life, a former superhero...  \n",
      "8806  A scrappy but poor boy worms his way into a ty...  \n",
      "8807  Dragged from civilian life, a former superhero...  \n",
      "8808  A scrappy but poor boy worms his way into a ty...  \n",
      "\n",
      "[8809 rows x 12 columns]\n"
     ]
    }
   ],
   "source": [
    "m = pd.read_csv('netflix_duplicte.csv')\n",
    "print(m)"
   ]
  },
  {
   "cell_type": "code",
   "execution_count": 53,
   "id": "e8f228df",
   "metadata": {},
   "outputs": [
    {
     "data": {
      "text/plain": [
       "np.int64(2)"
      ]
     },
     "execution_count": 53,
     "metadata": {},
     "output_type": "execute_result"
    }
   ],
   "source": [
    "m.duplicated().sum()"
   ]
  },
  {
   "cell_type": "code",
   "execution_count": 54,
   "id": "e1936f4c",
   "metadata": {},
   "outputs": [],
   "source": [
    "m.drop_duplicates(inplace=True)"
   ]
  },
  {
   "cell_type": "code",
   "execution_count": 55,
   "id": "202b2f9f",
   "metadata": {},
   "outputs": [
    {
     "data": {
      "text/plain": [
       "np.int64(0)"
      ]
     },
     "execution_count": 55,
     "metadata": {},
     "output_type": "execute_result"
    }
   ],
   "source": [
    "m.duplicated().sum()"
   ]
  },
  {
   "cell_type": "code",
   "execution_count": 56,
   "id": "317e4f25",
   "metadata": {},
   "outputs": [
    {
     "name": "stdout",
     "output_type": "stream",
     "text": [
      "(8807, 13)\n"
     ]
    }
   ],
   "source": [
    "s['type1']=s['type'].dropna()\n",
    "print(s.shape) "
   ]
  },
  {
   "cell_type": "code",
   "execution_count": 57,
   "id": "9fc2c53d",
   "metadata": {},
   "outputs": [
    {
     "name": "stdout",
     "output_type": "stream",
     "text": [
      "(8807, 12)\n"
     ]
    }
   ],
   "source": [
    "s.drop('type1', axis=1, inplace=True)\n",
    "print(s.shape)"
   ]
  },
  {
   "cell_type": "code",
   "execution_count": 58,
   "id": "9d78ee3d",
   "metadata": {},
   "outputs": [
    {
     "data": {
      "text/html": [
       "<div>\n",
       "<style scoped>\n",
       "    .dataframe tbody tr th:only-of-type {\n",
       "        vertical-align: middle;\n",
       "    }\n",
       "\n",
       "    .dataframe tbody tr th {\n",
       "        vertical-align: top;\n",
       "    }\n",
       "\n",
       "    .dataframe thead th {\n",
       "        text-align: right;\n",
       "    }\n",
       "</style>\n",
       "<table border=\"1\" class=\"dataframe\">\n",
       "  <thead>\n",
       "    <tr style=\"text-align: right;\">\n",
       "      <th></th>\n",
       "      <th>release_year</th>\n",
       "    </tr>\n",
       "  </thead>\n",
       "  <tbody>\n",
       "    <tr>\n",
       "      <th>count</th>\n",
       "      <td>8807.000000</td>\n",
       "    </tr>\n",
       "    <tr>\n",
       "      <th>mean</th>\n",
       "      <td>2014.180198</td>\n",
       "    </tr>\n",
       "    <tr>\n",
       "      <th>std</th>\n",
       "      <td>8.819312</td>\n",
       "    </tr>\n",
       "    <tr>\n",
       "      <th>min</th>\n",
       "      <td>1925.000000</td>\n",
       "    </tr>\n",
       "    <tr>\n",
       "      <th>25%</th>\n",
       "      <td>2013.000000</td>\n",
       "    </tr>\n",
       "    <tr>\n",
       "      <th>50%</th>\n",
       "      <td>2017.000000</td>\n",
       "    </tr>\n",
       "    <tr>\n",
       "      <th>75%</th>\n",
       "      <td>2019.000000</td>\n",
       "    </tr>\n",
       "    <tr>\n",
       "      <th>max</th>\n",
       "      <td>2021.000000</td>\n",
       "    </tr>\n",
       "  </tbody>\n",
       "</table>\n",
       "</div>"
      ],
      "text/plain": [
       "       release_year\n",
       "count   8807.000000\n",
       "mean    2014.180198\n",
       "std        8.819312\n",
       "min     1925.000000\n",
       "25%     2013.000000\n",
       "50%     2017.000000\n",
       "75%     2019.000000\n",
       "max     2021.000000"
      ]
     },
     "execution_count": 58,
     "metadata": {},
     "output_type": "execute_result"
    }
   ],
   "source": [
    "s.describe()\n"
   ]
  },
  {
   "cell_type": "code",
   "execution_count": 59,
   "id": "155e6530",
   "metadata": {},
   "outputs": [
    {
     "name": "stdout",
     "output_type": "stream",
     "text": [
      "<class 'pandas.core.frame.DataFrame'>\n",
      "RangeIndex: 8807 entries, 0 to 8806\n",
      "Data columns (total 12 columns):\n",
      " #   Column        Non-Null Count  Dtype \n",
      "---  ------        --------------  ----- \n",
      " 0   show_id       8807 non-null   object\n",
      " 1   type          8807 non-null   object\n",
      " 2   title         8807 non-null   object\n",
      " 3   director      6173 non-null   object\n",
      " 4   cast          7982 non-null   object\n",
      " 5   country       7976 non-null   object\n",
      " 6   date_added    8797 non-null   object\n",
      " 7   release_year  8807 non-null   int64 \n",
      " 8   rating        8803 non-null   object\n",
      " 9   duration      8804 non-null   object\n",
      " 10  listed_in     8807 non-null   object\n",
      " 11  description   8807 non-null   object\n",
      "dtypes: int64(1), object(11)\n",
      "memory usage: 825.8+ KB\n"
     ]
    }
   ],
   "source": [
    "s.info()"
   ]
  },
  {
   "cell_type": "code",
   "execution_count": 60,
   "id": "46139ebd",
   "metadata": {},
   "outputs": [
    {
     "data": {
      "text/plain": [
       "show_id            0\n",
       "type               0\n",
       "title              0\n",
       "director        2634\n",
       "cast             825\n",
       "country          831\n",
       "date_added        10\n",
       "release_year       0\n",
       "rating             4\n",
       "duration           3\n",
       "listed_in          0\n",
       "description        0\n",
       "dtype: int64"
      ]
     },
     "execution_count": 60,
     "metadata": {},
     "output_type": "execute_result"
    }
   ],
   "source": [
    "s.isnull().sum()"
   ]
  },
  {
   "cell_type": "code",
   "execution_count": 61,
   "id": "8b7d8e05",
   "metadata": {},
   "outputs": [
    {
     "data": {
      "text/plain": [
       "show_id            0\n",
       "type               0\n",
       "title              0\n",
       "director        2621\n",
       "cast             825\n",
       "country          829\n",
       "date_added         0\n",
       "release_year       0\n",
       "rating             0\n",
       "duration           3\n",
       "listed_in          0\n",
       "description        0\n",
       "dtype: int64"
      ]
     },
     "execution_count": 61,
     "metadata": {},
     "output_type": "execute_result"
    }
   ],
   "source": [
    "n=s.dropna(subset=['date_added','rating'])\n",
    "n.isnull().sum()"
   ]
  },
  {
   "cell_type": "code",
   "execution_count": 62,
   "id": "19bea513",
   "metadata": {},
   "outputs": [
    {
     "name": "stdout",
     "output_type": "stream",
     "text": [
      "type\n",
      "Movie      6129\n",
      "TV Show    2664\n",
      "Name: count, dtype: int64\n"
     ]
    }
   ],
   "source": [
    "type_count = n['type'].value_counts()\n",
    "print(type_count)"
   ]
  },
  {
   "cell_type": "code",
   "execution_count": 63,
   "id": "0259423c",
   "metadata": {},
   "outputs": [
    {
     "data": {
      "text/plain": [
       "Text(0, 0.5, 'number of content')"
      ]
     },
     "execution_count": 63,
     "metadata": {},
     "output_type": "execute_result"
    },
    {
     "data": {
      "image/png": "[encoded data removed]",
      "text/plain": [
       "<Figure size 640x480 with 1 Axes>"
      ]
     },
     "metadata": {},
     "output_type": "display_data"
    }
   ],
   "source": [
    "type_count.plot(kind= 'bar', color= ['#009dff', 'violet'])\n",
    "plt.title('Netflix Show Type Distribution')\n",
    "plt.xlabel('type of content')\n",
    "plt.ylabel('number of content')\n",
    "\n",
    "\n",
    "\n"
   ]
  },
  {
   "cell_type": "code",
   "execution_count": 64,
   "id": "de29ee66",
   "metadata": {},
   "outputs": [
    {
     "data": {
      "text/plain": [
       "Text(0, 0.5, 'number of content')"
      ]
     },
     "execution_count": 64,
     "metadata": {},
     "output_type": "execute_result"
    },
    {
     "data": {
      "image/png": "[encoded data removed]",
      "text/plain": [
       "<Figure size 640x480 with 1 Axes>"
      ]
     },
     "metadata": {},
     "output_type": "display_data"
    }
   ],
   "source": [
    "type_count.plot(kind= 'barh', color= ['#009dff', 'violet'])\n",
    "plt.title('Netflix Show Type Distribution')\n",
    "plt.xlabel('type of content')\n",
    "plt.ylabel('number of content')"
   ]
  },
  {
   "cell_type": "code",
   "execution_count": 65,
   "id": "880c8a65",
   "metadata": {},
   "outputs": [
    {
     "data": {
      "text/plain": [
       "Index(['show_id', 'type', 'title', 'director', 'cast', 'country', 'date_added',\n",
       "       'release_year', 'rating', 'duration', 'listed_in', 'description'],\n",
       "      dtype='object')"
      ]
     },
     "execution_count": 65,
     "metadata": {},
     "output_type": "execute_result"
    }
   ],
   "source": [
    "s.columns"
   ]
  },
  {
   "cell_type": "code",
   "execution_count": 66,
   "id": "7a77586e",
   "metadata": {},
   "outputs": [
    {
     "name": "stdout",
     "output_type": "stream",
     "text": [
      "rating\n",
      "TV-MA       3205\n",
      "TV-14       2157\n",
      "TV-PG        861\n",
      "R            799\n",
      "PG-13        490\n",
      "TV-Y7        333\n",
      "TV-Y         306\n",
      "PG           287\n",
      "TV-G         220\n",
      "NR            79\n",
      "G             41\n",
      "TV-Y7-FV       6\n",
      "NC-17          3\n",
      "UR             3\n",
      "74 min         1\n",
      "84 min         1\n",
      "66 min         1\n",
      "Name: count, dtype: int64\n"
     ]
    }
   ],
   "source": [
    "rating_count= n['rating'].value_counts()\n",
    "print(rating_count)"
   ]
  },
  {
   "cell_type": "code",
   "execution_count": 67,
   "id": "94a47282",
   "metadata": {},
   "outputs": [
    {
     "data": {
      "text/plain": [
       "Text(0, 0.5, 'number of content')"
      ]
     },
     "execution_count": 67,
     "metadata": {},
     "output_type": "execute_result"
    },
    {
     "data": {
      "image/png": "[encoded data removed]",
      "text/plain": [
       "<Figure size 640x480 with 1 Axes>"
      ]
     },
     "metadata": {},
     "output_type": "display_data"
    }
   ],
   "source": [
    "rating_count.plot(kind= 'bar', color= ['#009dff', 'violet'])\n",
    "plt.title('Netflix Show Type Distribution')\n",
    "plt.xlabel('type of content')\n",
    "plt.ylabel('number of content')"
   ]
  },
  {
   "cell_type": "code",
   "execution_count": 68,
   "id": "b176814e",
   "metadata": {},
   "outputs": [
    {
     "data": {
      "text/plain": [
       "Index(['show_id', 'type', 'title', 'director', 'cast', 'country', 'date_added',\n",
       "       'release_year', 'rating', 'duration', 'listed_in', 'description'],\n",
       "      dtype='object')"
      ]
     },
     "execution_count": 68,
     "metadata": {},
     "output_type": "execute_result"
    }
   ],
   "source": [
    "s.columns"
   ]
  },
  {
   "cell_type": "code",
   "execution_count": 69,
   "id": "fa1f81e9",
   "metadata": {},
   "outputs": [
    {
     "data": {
      "text/plain": [
       "Index(['show_id', 'type', 'title', 'director', 'cast', 'country', 'date_added',\n",
       "       'release_year', 'rating', 'duration', 'listed_in', 'description'],\n",
       "      dtype='object')"
      ]
     },
     "execution_count": 69,
     "metadata": {},
     "output_type": "execute_result"
    }
   ],
   "source": [
    "s['date_added'] = pd.to_datetime(s['date_added'],errors='coerce')\n",
    "s.columns"
   ]
  },
  {
   "cell_type": "code",
   "execution_count": 70,
   "id": "6cb072bb",
   "metadata": {},
   "outputs": [
    {
     "data": {
      "text/plain": [
       "Index(['show_id', 'type', 'title', 'director', 'cast', 'country', 'date_added',\n",
       "       'release_year', 'rating', 'duration', 'listed_in', 'description',\n",
       "       'year_added'],\n",
       "      dtype='object')"
      ]
     },
     "execution_count": 70,
     "metadata": {},
     "output_type": "execute_result"
    }
   ],
   "source": [
    "s['year_added'] = s['date_added'].dt.year\n",
    "s.columns"
   ]
  },
  {
   "cell_type": "code",
   "execution_count": 71,
   "id": "8ec3af45",
   "metadata": {},
   "outputs": [
    {
     "data": {
      "image/png": "[encoded data removed]",
      "text/plain": [
       "<Figure size 640x480 with 1 Axes>"
      ]
     },
     "metadata": {},
     "output_type": "display_data"
    }
   ],
   "source": [
    "year_count = s['year_added'].value_counts()\n",
    "year_count.sort_index().plot(kind='line',color='green')\n",
    "plt.title('content over time')\n",
    "plt.xlabel('Years')\n",
    "plt.ylabel('number of content')\n",
    "plt.grid(axis='x')"
   ]
  },
  {
   "cell_type": "code",
   "execution_count": 72,
   "id": "f0c9db8b",
   "metadata": {},
   "outputs": [
    {
     "data": {
      "text/plain": [
       "Index(['show_id', 'type', 'title', 'director', 'cast', 'country', 'date_added',\n",
       "       'release_year', 'rating', 'duration', 'listed_in', 'description',\n",
       "       'year_added'],\n",
       "      dtype='object')"
      ]
     },
     "execution_count": 72,
     "metadata": {},
     "output_type": "execute_result"
    }
   ],
   "source": [
    "s.columns"
   ]
  },
  {
   "cell_type": "code",
   "execution_count": 79,
   "id": "8cf7a450",
   "metadata": {},
   "outputs": [
    {
     "name": "stdout",
     "output_type": "stream",
     "text": [
      "country\n",
      "United States     2818\n",
      "India              972\n",
      "United Kingdom     419\n",
      "Japan              245\n",
      "South Korea        199\n",
      "Canada             181\n",
      "Spain              145\n",
      "France             124\n",
      "Mexico             110\n",
      "Egypt              106\n",
      "Name: count, dtype: int64\n"
     ]
    }
   ],
   "source": [
    "country_count = s['country'].value_counts().head(10)\n",
    "print(country_count)"
   ]
  },
  {
   "cell_type": "code",
   "execution_count": 81,
   "id": "3f6cabb5",
   "metadata": {},
   "outputs": [
    {
     "data": {
      "image/png": "[encoded data removed]",
      "text/plain": [
       "<Figure size 640x480 with 1 Axes>"
      ]
     },
     "metadata": {},
     "output_type": "display_data"
    }
   ],
   "source": [
    "country_count.plot(kind='bar', color = 'blue')\n",
    "plt.xlabel('country')\n",
    "plt.ylabel('number of movies')\n",
    "plt.title('Movies acrosss country')\n",
    "plt.grid(axis='x')"
   ]
  },
  {
   "cell_type": "code",
   "execution_count": 83,
   "id": "83a69102",
   "metadata": {},
   "outputs": [
    {
     "data": {
      "text/plain": [
       "<Axes: ylabel='count'>"
      ]
     },
     "execution_count": 83,
     "metadata": {},
     "output_type": "execute_result"
    },
    {
     "data": {
      "image/png": "[encoded data removed]",
      "text/plain": [
       "<Figure size 640x480 with 1 Axes>"
      ]
     },
     "metadata": {},
     "output_type": "display_data"
    }
   ],
   "source": [
    "country_count.plot(kind='pie', color = 'blue')\n"
   ]
  }
 ],
 "metadata": {
  "kernelspec": {
   "display_name": "Python 3",
   "language": "python",
   "name": "python3"
  },
  "language_info": {
   "codemirror_mode": {
    "name": "ipython",
    "version": 3
   },
   "file_extension": ".py",
   "mimetype": "text/x-python",
   "name": "python",
   "nbconvert_exporter": "python",
   "pygments_lexer": "ipython3",
   "version": "3.13.5"
  }
 },
 "nbformat": 4,
 "nbformat_minor": 5
}
